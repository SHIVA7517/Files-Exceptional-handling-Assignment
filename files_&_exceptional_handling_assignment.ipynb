{
  "cells": [
    {
      "cell_type": "markdown",
      "metadata": {
        "id": "_WIfwrOXYO05"
      },
      "source": [
        "# Theory Questions-:\n",
        "\n",
        "What is the difference between interpreted and compiled languages?\n",
        "\n",
        "Interpreted languages execute code line by line, with an interpreter converting the code to machine instructions at runtime (e.g., Python, JavaScript).\n",
        "Compiled languages translate the entire code into machine language before execution (e.g., C, C++).\n",
        "\n",
        "What is exception handling in Python?\n",
        "\n",
        "Exception handling is a mechanism to handle runtime errors using try, except, finally, and else blocks.\n",
        "\n",
        "What is the purpose of the finally block in exception handling?\n",
        "\n",
        "The finally block executes code regardless of whether an exception occurs or not, often used for cleanup operations like closing files.\n",
        "\n",
        "What is logging in Python?\n",
        "\n",
        "Logging records runtime events to track errors, warnings, or debug information using Python’s logging module.\n",
        "\n",
        "What is the significance of the __del__ method in Python?\n",
        "\n",
        "The __del__ method is a destructor that is called when an object is deleted, used for resource cleanup.\n",
        "\n",
        "What is the difference between import and from ... import in Python?\n",
        "\n",
        "import module imports the whole module, requiring usage as module.function().\n",
        "from module import function imports only a specific function or class.\n",
        "\n",
        "How can you handle multiple exceptions in Python?\n",
        "\n",
        "Use multiple except blocks for different exception types or use except (Exception1, Exception2) as e: for handling multiple exceptions in one block.\n",
        "\n",
        "What is the purpose of the with statement when handling files in Python?\n",
        "\n",
        "The with statement ensures that files are automatically closed after execution, preventing resource leaks.\n",
        "\n",
        "What is the difference between multithreading and multiprocessing?\n",
        "\n",
        "Multithreading runs multiple threads within the same process, sharing memory.\n",
        "Multiprocessing runs multiple processes independently with separate memory spaces.\n",
        "\n",
        "What are the advantages of using logging in a program?\n",
        "\n",
        "Provides error tracking, debugging information, and event recording without disrupting execution.\n",
        "\n",
        "What is memory management in Python?\n",
        "\n",
        "Python manages memory through automatic garbage collection and reference counting.\n",
        "\n",
        "What are the basic steps involved in exception handling in Python?\n",
        "\n",
        "Use try block to test code, except block to catch errors, else for code that runs if no error occurs, and finally for cleanup.\n",
        "\n",
        "Why is memory management important in Python?\n",
        "\n",
        "Ensures efficient memory usage, avoids leaks, and optimizes performance.\n",
        "\n",
        "What is the role of try and except in exception handling?\n",
        "\n",
        "try block contains code that may raise exceptions, while except block handles exceptions gracefully.\n",
        "\n",
        "How does Python's garbage collection system work?\n",
        "\n",
        "Uses reference counting and a cyclic garbage collector to remove unused objects.\n",
        "\n",
        "What is the purpose of the else block in exception handling?\n",
        "\n",
        "Executes code only if no exception occurs in the try block.\n",
        "\n",
        "What are the common logging levels in Python?\n",
        "\n",
        "DEBUG, INFO, WARNING, ERROR, CRITICAL.\n",
        "\n",
        "What is the difference between os.fork() and multiprocessing in Python?\n",
        "\n",
        "os.fork() creates a new child process using the same memory space (Unix only), while multiprocessing creates separate memory spaces.\n",
        "\n",
        "What is the importance of closing a file in Python?\n",
        "\n",
        "Prevents resource leaks and ensures data is saved properly.\n",
        "\n",
        "What is the difference between file.read() and file.readline() in Python?\n",
        "\n",
        "file.read() reads the entire file, while file.readline() reads a single line.\n",
        "\n",
        "What is the logging module in Python used for?\n",
        "\n",
        "Captures runtime events like errors, warnings, and info messages.\n",
        "\n",
        "What is the os module in Python used for in file handling?\n",
        "\n",
        "Provides functions for file operations, directory manipulation, and system-level tasks.\n",
        "\n",
        "What are the challenges associated with memory management in Python?\n",
        "\n",
        "Cyclic references, fragmentation, and performance overhead due to garbage collection.\n",
        "\n",
        "How do you raise an exception manually in Python?\n",
        "\n",
        "Use raise Exception(\"Error Message\").\n",
        "\n",
        "Why is it important to use multithreading in certain applications?\n",
        "\n",
        "Improves performance for I/O-bound tasks and parallel execution.\n"
      ]
    },
    {
      "cell_type": "code",
      "execution_count": 1,
      "metadata": {
        "id": "JNXT72O6Y81B"
      },
      "outputs": [],
      "source": [
        "# Practical Questions:\n",
        "\n",
        "with open(\"file.txt\", \"w\") as f:\n",
        "    f.write(\"Hello, World!\")"
      ]
    },
    {
      "cell_type": "code",
      "execution_count": 2,
      "metadata": {
        "colab": {
          "base_uri": "https://localhost:8080/"
        },
        "id": "b0rIu-7jZVVm",
        "outputId": "6184f625-8722-42e1-ae53-feb0ed4ecda9"
      },
      "outputs": [
        {
          "name": "stdout",
          "output_type": "stream",
          "text": [
            "Hello, World!\n"
          ]
        }
      ],
      "source": [
        "with open(\"file.txt\", \"r\") as f:\n",
        "    for line in f:\n",
        "        print(line.strip())"
      ]
    },
    {
      "cell_type": "code",
      "execution_count": 3,
      "metadata": {
        "colab": {
          "base_uri": "https://localhost:8080/"
        },
        "id": "KIT0JA3eZaHT",
        "outputId": "45b398bd-d071-40c4-e198-3618e4daa082"
      },
      "outputs": [
        {
          "name": "stdout",
          "output_type": "stream",
          "text": [
            "File not found!\n"
          ]
        }
      ],
      "source": [
        "try:\n",
        "    with open(\"nonexistent.txt\", \"r\") as f:\n",
        "        content = f.read()\n",
        "except FileNotFoundError:\n",
        "    print(\"File not found!\")"
      ]
    },
    {
      "cell_type": "code",
      "execution_count": 6,
      "metadata": {
        "id": "PfFN9Po6ZgVt"
      },
      "outputs": [],
      "source": [
        "with open(\"source.txt\", \"w\") as src:  # Create source.txt and write some data\n",
        "    src.write(\"This is some text for the source file.\")\n",
        "with open(\"source.txt\", \"r\") as src, open(\"destination.txt\", \"w\") as dest:\n",
        "    dest.write(src.read())"
      ]
    },
    {
      "cell_type": "code",
      "execution_count": 7,
      "metadata": {
        "colab": {
          "base_uri": "https://localhost:8080/"
        },
        "id": "G6hyNx2YZjaX",
        "outputId": "376b4dc4-3b61-47e5-d910-6979980997d0"
      },
      "outputs": [
        {
          "name": "stdout",
          "output_type": "stream",
          "text": [
            "Cannot divide by zero!\n"
          ]
        }
      ],
      "source": [
        "try:\n",
        "    result = 10 / 0\n",
        "except ZeroDivisionError:\n",
        "    print(\"Cannot divide by zero!\")"
      ]
    },
    {
      "cell_type": "code",
      "execution_count": 8,
      "metadata": {
        "colab": {
          "base_uri": "https://localhost:8080/"
        },
        "id": "6R7FD0p_aJBU",
        "outputId": "84164b2b-6c8e-48c1-c82a-6208d460134f"
      },
      "outputs": [
        {
          "name": "stderr",
          "output_type": "stream",
          "text": [
            "ERROR:root:Error: division by zero\n"
          ]
        }
      ],
      "source": [
        "import logging\n",
        "logging.basicConfig(filename=\"errors.log\", level=logging.ERROR)\n",
        "try:\n",
        "    result = 10 / 0\n",
        "except ZeroDivisionError as e:\n",
        "    logging.error(f\"Error: {e}\")"
      ]
    },
    {
      "cell_type": "code",
      "execution_count": 9,
      "metadata": {
        "colab": {
          "base_uri": "https://localhost:8080/"
        },
        "id": "QXhQoxWFaO0P",
        "outputId": "c8ace5b6-bb93-4493-9f7b-3d243c3bda8b"
      },
      "outputs": [
        {
          "name": "stdout",
          "output_type": "stream",
          "text": [
            "File not found!\n"
          ]
        }
      ],
      "source": [
        "try:\n",
        "    with open(\"unknown.txt\", \"r\") as f:\n",
        "        print(f.read())\n",
        "except FileNotFoundError:\n",
        "    print(\"File not found!\")"
      ]
    },
    {
      "cell_type": "code",
      "execution_count": 10,
      "metadata": {
        "colab": {
          "base_uri": "https://localhost:8080/"
        },
        "id": "m45iMYBmaRxL",
        "outputId": "51767c42-e089-49d8-8789-d73b89491f71"
      },
      "outputs": [
        {
          "name": "stdout",
          "output_type": "stream",
          "text": [
            "['Hello, World!']\n"
          ]
        }
      ],
      "source": [
        "with open(\"file.txt\", \"r\") as f:\n",
        "    lines = f.readlines()\n",
        "print(lines)"
      ]
    },
    {
      "cell_type": "code",
      "execution_count": 11,
      "metadata": {
        "id": "-o1I8haXaUSu"
      },
      "outputs": [],
      "source": [
        "with open(\"file.txt\", \"a\") as f:\n",
        "    f.write(\"\\nNew data appended.\")"
      ]
    },
    {
      "cell_type": "code",
      "execution_count": 12,
      "metadata": {
        "colab": {
          "base_uri": "https://localhost:8080/"
        },
        "id": "UuNiV1WYaWX2",
        "outputId": "4fe76446-be3e-4f13-e03c-5c9aa91c8efb"
      },
      "outputs": [
        {
          "name": "stdout",
          "output_type": "stream",
          "text": [
            "Key not found!\n"
          ]
        }
      ],
      "source": [
        "try:\n",
        "    d = {\"key\": \"value\"}\n",
        "    print(d[\"missing\"])\n",
        "except KeyError:\n",
        "    print(\"Key not found!\")"
      ]
    },
    {
      "cell_type": "code",
      "execution_count": 13,
      "metadata": {
        "colab": {
          "base_uri": "https://localhost:8080/"
        },
        "id": "mTNCUpwPaY6l",
        "outputId": "76c46c85-6d0b-4b64-a5a2-3c9074f6ede1"
      },
      "outputs": [
        {
          "name": "stdout",
          "output_type": "stream",
          "text": [
            "Error occurred!\n"
          ]
        }
      ],
      "source": [
        "try:\n",
        "    x = int(\"abc\")\n",
        "except (ValueError, TypeError):\n",
        "    print(\"Error occurred!\")"
      ]
    },
    {
      "cell_type": "code",
      "execution_count": 14,
      "metadata": {
        "colab": {
          "base_uri": "https://localhost:8080/"
        },
        "id": "Kpk_9yznabCy",
        "outputId": "cb1e0b58-78fd-4d8b-befb-00210e7759d0"
      },
      "outputs": [
        {
          "name": "stdout",
          "output_type": "stream",
          "text": [
            "File exists.\n"
          ]
        }
      ],
      "source": [
        "import os\n",
        "if os.path.exists(\"file.txt\"):\n",
        "    print(\"File exists.\")\n",
        "else:\n",
        "    print(\"File does not exist.\")"
      ]
    },
    {
      "cell_type": "code",
      "execution_count": 15,
      "metadata": {
        "id": "fo7ReuHlad7c"
      },
      "outputs": [],
      "source": [
        "from logging.handlers import RotatingFileHandler\n",
        "logger = logging.getLogger(\"MyLogger\")\n",
        "handler = RotatingFileHandler(\"app.log\", maxBytes=1048576, backupCount=3)\n",
        "logger.addHandler(handler)"
      ]
    },
    {
      "cell_type": "code",
      "execution_count": 16,
      "metadata": {
        "colab": {
          "base_uri": "https://localhost:8080/"
        },
        "id": "RMH_DdxnagLV",
        "outputId": "9e59d4d5-ee47-4f2a-85d0-2505dad849f3"
      },
      "outputs": [
        {
          "name": "stdout",
          "output_type": "stream",
          "text": [
            "Hello, World!\n",
            "New data appended.\n"
          ]
        }
      ],
      "source": [
        "import os\n",
        "\n",
        "filename = \"file.txt\"\n",
        "if os.path.exists(filename) and os.stat(filename).st_size == 0:\n",
        "    print(\"File is empty.\")\n",
        "else:\n",
        "    with open(filename, \"r\") as f:\n",
        "        print(f.read())\n"
      ]
    },
    {
      "cell_type": "code",
      "execution_count": null,
      "metadata": {
        "id": "U2b06WtfcDxd"
      },
      "outputs": [],
      "source": [
        "from memory_profiler import profile\n",
        "\n",
        "@profile\n",
        "def memory_test():\n",
        "    arr = [i for i in range(1000000)]\n",
        "    return arr\n",
        "\n",
        "memory_test()"
      ]
    },
    {
      "cell_type": "code",
      "execution_count": 20,
      "metadata": {
        "id": "wb6g3B4Eaxqm"
      },
      "outputs": [],
      "source": [
        "with open(\"numbers.txt\", \"w\") as f:\n",
        "    for i in range(1, 11):\n",
        "        f.write(f\"{i}\\n\")"
      ]
    },
    {
      "cell_type": "code",
      "execution_count": 21,
      "metadata": {
        "colab": {
          "base_uri": "https://localhost:8080/"
        },
        "id": "JO42hfxMbEbp",
        "outputId": "29ea90e1-2d76-4f66-87d8-8adc99d57f14"
      },
      "outputs": [
        {
          "name": "stderr",
          "output_type": "stream",
          "text": [
            "INFO:RotatingLogger:This is a log message.\n"
          ]
        }
      ],
      "source": [
        "import logging\n",
        "from logging.handlers import RotatingFileHandler\n",
        "\n",
        "logger = logging.getLogger(\"RotatingLogger\")\n",
        "logger.setLevel(logging.INFO)\n",
        "handler = RotatingFileHandler(\"rotating.log\", maxBytes=1048576, backupCount=3)\n",
        "logger.addHandler(handler)\n",
        "\n",
        "logger.info(\"This is a log message.\")"
      ]
    },
    {
      "cell_type": "code",
      "execution_count": 22,
      "metadata": {
        "colab": {
          "base_uri": "https://localhost:8080/"
        },
        "id": "uiBKdYL_bG5W",
        "outputId": "d440f96f-1759-4c7c-d45b-27ab75fdd8bd"
      },
      "outputs": [
        {
          "name": "stdout",
          "output_type": "stream",
          "text": [
            "Index out of range!\n"
          ]
        }
      ],
      "source": [
        "try:\n",
        "    lst = [1, 2, 3]\n",
        "    print(lst[5])  # IndexError\n",
        "    d = {\"a\": 1}\n",
        "    print(d[\"b\"])  # KeyError\n",
        "except IndexError:\n",
        "    print(\"Index out of range!\")\n",
        "except KeyError:\n",
        "    print(\"Key not found!\")"
      ]
    },
    {
      "cell_type": "code",
      "execution_count": 23,
      "metadata": {
        "colab": {
          "base_uri": "https://localhost:8080/"
        },
        "id": "T4Ve-7QwbJO0",
        "outputId": "f717d834-a34e-4231-fc2f-c3bd5b7c6aad"
      },
      "outputs": [
        {
          "name": "stdout",
          "output_type": "stream",
          "text": [
            "Hello, World!\n",
            "New data appended.\n"
          ]
        }
      ],
      "source": [
        "with open(\"file.txt\", \"r\") as f:\n",
        "    content = f.read()\n",
        "print(content)"
      ]
    },
    {
      "cell_type": "code",
      "execution_count": 24,
      "metadata": {
        "colab": {
          "base_uri": "https://localhost:8080/"
        },
        "id": "o4-oJu3ZbLuP",
        "outputId": "f15ce512-011e-4c47-ce05-e398de1f26d5"
      },
      "outputs": [
        {
          "name": "stdout",
          "output_type": "stream",
          "text": [
            "The word 'Python' appears 0 times.\n"
          ]
        }
      ],
      "source": [
        "word_to_count = \"Python\"\n",
        "with open(\"file.txt\", \"r\") as f:\n",
        "    content = f.read()\n",
        "count = content.count(word_to_count)\n",
        "print(f\"The word '{word_to_count}' appears {count} times.\")"
      ]
    },
    {
      "cell_type": "code",
      "execution_count": 25,
      "metadata": {
        "colab": {
          "base_uri": "https://localhost:8080/"
        },
        "id": "6M69SrBTbOZv",
        "outputId": "938b10f4-b4df-4772-a661-21d697239588"
      },
      "outputs": [
        {
          "name": "stdout",
          "output_type": "stream",
          "text": [
            "Hello, World!\n",
            "New data appended.\n"
          ]
        }
      ],
      "source": [
        "import os\n",
        "\n",
        "filename = \"file.txt\"\n",
        "if os.path.exists(filename) and os.stat(filename).st_size == 0:\n",
        "    print(\"File is empty.\")\n",
        "else:\n",
        "    with open(filename, \"r\") as f:\n",
        "        print(f.read())"
      ]
    },
    {
      "cell_type": "code",
      "execution_count": 26,
      "metadata": {
        "colab": {
          "base_uri": "https://localhost:8080/"
        },
        "id": "P_TicJ7TbQlg",
        "outputId": "d01a7eac-31d8-4b12-dbfe-77d9d6d55aa9"
      },
      "outputs": [
        {
          "name": "stderr",
          "output_type": "stream",
          "text": [
            "ERROR:root:File not found error: [Errno 2] No such file or directory: 'nonexistent.txt'\n"
          ]
        }
      ],
      "source": [
        "import logging\n",
        "\n",
        "logging.basicConfig(filename=\"file_errors.log\", level=logging.ERROR)\n",
        "\n",
        "try:\n",
        "    with open(\"nonexistent.txt\", \"r\") as f:\n",
        "        print(f.read())\n",
        "except FileNotFoundError as e:\n",
        "    logging.error(f\"File not found error: {e}\")"
      ]
    },
    {
      "cell_type": "code",
      "execution_count": null,
      "metadata": {
        "id": "rA2l5cfcbTR4"
      },
      "outputs": [],
      "source": []
    }
  ],
  "metadata": {
    "colab": {
      "provenance": []
    },
    "kernelspec": {
      "display_name": "Python 3",
      "name": "python3"
    },
    "language_info": {
      "name": "python",
      "version": "3.10.0"
    }
  },
  "nbformat": 4,
  "nbformat_minor": 0
}
